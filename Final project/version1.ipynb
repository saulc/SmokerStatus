{
 "cells": [
  {
   "cell_type": "code",
   "execution_count": 1,
   "id": "18ea339d-b1bb-4fae-840e-eddabc697f1e",
   "metadata": {},
   "outputs": [],
   "source": [
    "\n",
    "import time\n",
    "\n",
    "from sklearn.metrics import accuracy_score\n",
    "from sklearn.neighbors import KNeighborsClassifier\n",
    "from sklearn.model_selection import train_test_split\n",
    "\n",
    "import numpy as np\n",
    "import pandas as pd"
   ]
  },
  {
   "cell_type": "code",
   "execution_count": 2,
   "id": "55a9ea9c-c005-4269-88ff-48e484d559fe",
   "metadata": {},
   "outputs": [
    {
     "name": "stdout",
     "output_type": "stream",
     "text": [
      "Column count: 24\n",
      "Index(['id', 'age', 'height(cm)', 'weight(kg)', 'waist(cm)', 'eyesight(left)',\n",
      "       'eyesight(right)', 'hearing(left)', 'hearing(right)', 'systolic',\n",
      "       'relaxation', 'fasting blood sugar', 'Cholesterol', 'triglyceride',\n",
      "       'HDL', 'LDL', 'hemoglobin', 'Urine protein', 'serum creatinine', 'AST',\n",
      "       'ALT', 'Gtp', 'dental caries', 'smoking'],\n",
      "      dtype='object')\n",
      "(159256, 24)\n",
      "Column count: 23\n",
      "Index(['id', 'age', 'height(cm)', 'weight(kg)', 'waist(cm)', 'eyesight(left)',\n",
      "       'eyesight(right)', 'hearing(left)', 'hearing(right)', 'systolic',\n",
      "       'relaxation', 'fasting blood sugar', 'Cholesterol', 'triglyceride',\n",
      "       'HDL', 'LDL', 'hemoglobin', 'Urine protein', 'serum creatinine', 'AST',\n",
      "       'ALT', 'Gtp', 'dental caries'],\n",
      "      dtype='object')\n",
      "(106171, 23)\n",
      "Trainning data\n",
      "            id  age  height(cm)  weight(kg)  waist(cm)  eyesight(left)  \\\n",
      "0            0   55         165          60       81.0             0.5   \n",
      "1            1   70         165          65       89.0             0.6   \n",
      "2            2   20         170          75       81.0             0.4   \n",
      "3            3   35         180          95      105.0             1.5   \n",
      "4            4   30         165          60       80.5             1.5   \n",
      "...        ...  ...         ...         ...        ...             ...   \n",
      "159251  159251   40         155          45       69.0             1.5   \n",
      "159252  159252   50         155          75       82.0             1.0   \n",
      "159253  159253   40         160          50       66.0             1.5   \n",
      "159254  159254   50         165          75       92.0             1.2   \n",
      "159255  159255   40         145          45       76.4             1.0   \n",
      "\n",
      "        eyesight(right)  hearing(left)  hearing(right)  systolic  ...  HDL  \\\n",
      "0                   0.6              1               1       135  ...   40   \n",
      "1                   0.7              2               2       146  ...   57   \n",
      "2                   0.5              1               1       118  ...   45   \n",
      "3                   1.2              1               1       131  ...   38   \n",
      "4                   1.0              1               1       121  ...   44   \n",
      "...                 ...            ...             ...       ...  ...  ...   \n",
      "159251              2.0              1               1       127  ...   72   \n",
      "159252              1.0              1               1       120  ...   64   \n",
      "159253              1.0              1               1       114  ...   87   \n",
      "159254              1.0              1               1       121  ...   55   \n",
      "159255              1.2              1               1       125  ...   87   \n",
      "\n",
      "        LDL  hemoglobin  Urine protein  serum creatinine  AST  ALT  Gtp  \\\n",
      "0        75        16.5              1               1.0   22   25   27   \n",
      "1       126        16.2              1               1.1   27   23   37   \n",
      "2        93        17.4              1               0.8   27   31   53   \n",
      "3       102        15.9              1               1.0   20   27   30   \n",
      "4        93        15.4              1               0.8   19   13   17   \n",
      "...     ...         ...            ...               ...  ...  ...  ...   \n",
      "159251  159        14.5              1               0.8   25   26   13   \n",
      "159252  108        14.5              1               0.6   21   20   18   \n",
      "159253   93        10.9              1               0.6   15    9   12   \n",
      "159254   80        14.4              1               1.1   22   17   37   \n",
      "159255   81        14.0              1               0.8   21   16   17   \n",
      "\n",
      "        dental caries  smoking  \n",
      "0                   0        1  \n",
      "1                   1        0  \n",
      "2                   0        1  \n",
      "3                   1        0  \n",
      "4                   0        1  \n",
      "...               ...      ...  \n",
      "159251              0        0  \n",
      "159252              0        0  \n",
      "159253              0        0  \n",
      "159254              0        1  \n",
      "159255              0        0  \n",
      "\n",
      "[159256 rows x 24 columns]\n",
      "Testing data\n",
      "            id  age  height(cm)  weight(kg)  waist(cm)  eyesight(left)  \\\n",
      "0       159256   40         165          70       84.0             1.2   \n",
      "1       159257   80         160          60       93.0             1.0   \n",
      "2       159258   60         170          70       86.5             0.6   \n",
      "3       159259   40         160          50       67.0             0.3   \n",
      "4       159260   40         170          75       89.4             1.0   \n",
      "...        ...  ...         ...         ...        ...             ...   \n",
      "106166  265422   40         165          60       78.0             0.8   \n",
      "106167  265423   40         170          85       95.0             1.2   \n",
      "106168  265424   35         170          85       89.0             1.2   \n",
      "106169  265425   40         160          60       67.0             0.7   \n",
      "106170  265426   50         150          50       80.0             0.9   \n",
      "\n",
      "        eyesight(right)  hearing(left)  hearing(right)  systolic  ...  \\\n",
      "0                   1.2              1               1       130  ...   \n",
      "1                   1.0              2               2       144  ...   \n",
      "2                   0.7              1               1       117  ...   \n",
      "3                   0.4              1               1       116  ...   \n",
      "4                   0.9              1               1       132  ...   \n",
      "...                 ...            ...             ...       ...  ...   \n",
      "106166              0.9              1               1       112  ...   \n",
      "106167              1.2              1               1       130  ...   \n",
      "106168              1.2              1               1       131  ...   \n",
      "106169              0.8              1               1       120  ...   \n",
      "106170              1.0              1               1       115  ...   \n",
      "\n",
      "        triglyceride  HDL  LDL  hemoglobin  Urine protein  serum creatinine  \\\n",
      "0                186   49  115        14.2              1               0.9   \n",
      "1                158   35  104        13.0              1               1.1   \n",
      "2                173   39   88        15.4              1               1.4   \n",
      "3                 47   75  128        14.5              1               0.6   \n",
      "4                100   39  123        16.5              1               1.0   \n",
      "...              ...  ...  ...         ...            ...               ...   \n",
      "106166            82   59  149        16.4              1               1.1   \n",
      "106167           186   44  100        16.0              2               1.0   \n",
      "106168            76   53  142        15.9              1               0.8   \n",
      "106169            81   55  103        13.9              1               0.6   \n",
      "106170            96   48  144        13.0              1               0.6   \n",
      "\n",
      "        AST  ALT  Gtp  dental caries  \n",
      "0        19   25   32              0  \n",
      "1        20   12   24              0  \n",
      "2        38   60   36              0  \n",
      "3        25   18   10              1  \n",
      "4        30   39   27              1  \n",
      "...     ...  ...  ...            ...  \n",
      "106166   24   31   28              0  \n",
      "106167   25   31   38              0  \n",
      "106168   33   32   24              1  \n",
      "106169   42   36   32              0  \n",
      "106170   18   11   17              1  \n",
      "\n",
      "[106171 rows x 23 columns]\n"
     ]
    }
   ],
   "source": [
    "\n",
    "df_train = pd.read_csv(\"train.csv\")\n",
    "df_test = pd.read_csv(\"test.csv\")\n",
    "\n",
    "print('Column count:', len(df_train.columns))\n",
    "print(df_train.columns)\n",
    "print(df_train.shape)\n",
    "\n",
    "print('Column count:', len(df_test.columns))\n",
    "print(df_test.columns)\n",
    "print(df_test.shape)\n",
    "\n",
    "print('Trainning data')\n",
    "print(df_train)\n",
    "print('Testing data')\n",
    "print(df_test)"
   ]
  },
  {
   "cell_type": "code",
   "execution_count": null,
   "id": "3426a2c8-e413-4415-b963-632534bf6e5f",
   "metadata": {},
   "outputs": [],
   "source": []
  },
  {
   "cell_type": "code",
   "execution_count": 3,
   "id": "f1c48f9e-ec73-4ebc-beda-a70aa5b8543c",
   "metadata": {},
   "outputs": [
    {
     "name": "stdout",
     "output_type": "stream",
     "text": [
      "Index(['id', 'age', 'height(cm)', 'weight(kg)', 'waist(cm)', 'eyesight(left)',\n",
      "       'eyesight(right)', 'hearing(left)', 'hearing(right)', 'systolic',\n",
      "       'relaxation', 'fasting blood sugar', 'Cholesterol', 'triglyceride',\n",
      "       'HDL', 'LDL', 'hemoglobin', 'Urine protein', 'serum creatinine', 'AST',\n",
      "       'ALT', 'Gtp', 'dental caries'],\n",
      "      dtype='object')\n"
     ]
    }
   ],
   "source": [
    "features = df_train.columns[:len(df_train.columns)-1]\n",
    "print(features)\n",
    "\n",
    "X = df_train[features]\n",
    "y = df_train['smoking']\n",
    "\n",
    "X_train, X_test, y_train, y_test = train_test_split(X, y, test_size=0.4, random_state=10) \n"
   ]
  },
  {
   "cell_type": "markdown",
   "id": "5061141e-ca13-4979-98fa-0ff49e920248",
   "metadata": {},
   "source": [
    "<h2><b>This section will take a few seconds per k value to run!!</b></h2>"
   ]
  },
  {
   "cell_type": "code",
   "execution_count": 18,
   "id": "9a37d7fa-45c3-4255-813c-f9f74f6c715d",
   "metadata": {},
   "outputs": [
    {
     "name": "stdout",
     "output_type": "stream",
     "text": [
      "3 0.6419006954146587\n",
      "solution time: 2991.06 ms\n",
      "5 0.6539880382399573\n",
      "solution time: 2926.99 ms\n",
      "11 0.6644898984349246\n",
      "solution time: 2970.01 ms\n",
      "15 0.6647567618479506\n",
      "solution time: 3069.86 ms\n",
      "27 0.6671899282608355\n",
      "solution time: 3127.01 ms\n",
      "43 0.6629986028915436\n",
      "solution time: 3206.38 ms\n",
      "51 0.6596706591526301\n",
      "solution time: 3261.26 ms\n",
      "57 0.6567037659136933\n",
      "solution time: 3341.21 ms\n"
     ]
    }
   ],
   "source": [
    "acc = [] \n",
    "kv = [ 3, 5, 11, 15, 27, 43, 51, 57]\n",
    "for k in kv:\n",
    "    start_time = time.perf_counter()\n",
    "    knn = KNeighborsClassifier(n_neighbors=k, weights='uniform') \n",
    "    knn.fit(X_train, y_train)\n",
    "    ypre = knn.predict(X_test)\n",
    "    # print(ypre)    \n",
    "    accuracy = accuracy_score(y_test, ypre)\n",
    "    print(k, accuracy) \n",
    "    acc.append(accuracy)\n",
    "    stop_time = time.perf_counter()\n",
    "    print(\"solution time: {:.2f} ms\".format((stop_time - start_time) * 1000))\n",
    "    "
   ]
  },
  {
   "cell_type": "markdown",
   "id": "3d777766-07f5-465b-a1cc-cedccffb5ea5",
   "metadata": {},
   "source": [
    "create a dataframe to display accuracy results and find the best k val"
   ]
  },
  {
   "cell_type": "code",
   "execution_count": 19,
   "id": "ceca3ce9-0b95-4d42-87d8-3eaf1416ec2f",
   "metadata": {},
   "outputs": [
    {
     "name": "stdout",
     "output_type": "stream",
     "text": [
      "best k: 27.0 [3, 5, 11, 15, 27, 43, 51, 57]\n"
     ]
    }
   ],
   "source": [
    "showacc =  pd.DataFrame({\n",
    "        'k' : kv,\n",
    "        'accuracy' : acc\n",
    "})\n",
    "\n",
    "showacc.sort_values(by='accuracy', ascending=False)\n",
    "\n",
    "bestk = showacc.sort_values(by='accuracy', ascending=False).iloc[0]\n",
    "bestk = bestk.k\n",
    "print('best k:', bestk, kv)\n"
   ]
  },
  {
   "cell_type": "code",
   "execution_count": null,
   "id": "634140b9-f9cf-496e-90ce-0b5424c10274",
   "metadata": {},
   "outputs": [],
   "source": []
  }
 ],
 "metadata": {
  "kernelspec": {
   "display_name": "Python 3 (ipykernel)",
   "language": "python",
   "name": "python3"
  },
  "language_info": {
   "codemirror_mode": {
    "name": "ipython",
    "version": 3
   },
   "file_extension": ".py",
   "mimetype": "text/x-python",
   "name": "python",
   "nbconvert_exporter": "python",
   "pygments_lexer": "ipython3",
   "version": "3.12.4"
  }
 },
 "nbformat": 4,
 "nbformat_minor": 5
}
