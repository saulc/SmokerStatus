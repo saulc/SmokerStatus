{
 "cells": [
  {
   "cell_type": "code",
   "execution_count": 2,
   "id": "18ea339d-b1bb-4fae-840e-eddabc697f1e",
   "metadata": {},
   "outputs": [],
   "source": [
    "\n",
    "\n",
    "import numpy as np\n",
    "import pandas as pd"
   ]
  },
  {
   "cell_type": "code",
   "execution_count": 9,
   "id": "55a9ea9c-c005-4269-88ff-48e484d559fe",
   "metadata": {},
   "outputs": [
    {
     "name": "stdout",
     "output_type": "stream",
     "text": [
      "Column count: 24\n",
      "Index(['id', 'age', 'height(cm)', 'weight(kg)', 'waist(cm)', 'eyesight(left)',\n",
      "       'eyesight(right)', 'hearing(left)', 'hearing(right)', 'systolic',\n",
      "       'relaxation', 'fasting blood sugar', 'Cholesterol', 'triglyceride',\n",
      "       'HDL', 'LDL', 'hemoglobin', 'Urine protein', 'serum creatinine', 'AST',\n",
      "       'ALT', 'Gtp', 'dental caries', 'smoking'],\n",
      "      dtype='object')\n",
      "            id  age  height(cm)  weight(kg)  waist(cm)  eyesight(left)  \\\n",
      "0            0   55         165          60       81.0             0.5   \n",
      "1            1   70         165          65       89.0             0.6   \n",
      "2            2   20         170          75       81.0             0.4   \n",
      "3            3   35         180          95      105.0             1.5   \n",
      "4            4   30         165          60       80.5             1.5   \n",
      "...        ...  ...         ...         ...        ...             ...   \n",
      "159251  159251   40         155          45       69.0             1.5   \n",
      "159252  159252   50         155          75       82.0             1.0   \n",
      "159253  159253   40         160          50       66.0             1.5   \n",
      "159254  159254   50         165          75       92.0             1.2   \n",
      "159255  159255   40         145          45       76.4             1.0   \n",
      "\n",
      "        eyesight(right)  hearing(left)  hearing(right)  systolic  ...  HDL  \\\n",
      "0                   0.6              1               1       135  ...   40   \n",
      "1                   0.7              2               2       146  ...   57   \n",
      "2                   0.5              1               1       118  ...   45   \n",
      "3                   1.2              1               1       131  ...   38   \n",
      "4                   1.0              1               1       121  ...   44   \n",
      "...                 ...            ...             ...       ...  ...  ...   \n",
      "159251              2.0              1               1       127  ...   72   \n",
      "159252              1.0              1               1       120  ...   64   \n",
      "159253              1.0              1               1       114  ...   87   \n",
      "159254              1.0              1               1       121  ...   55   \n",
      "159255              1.2              1               1       125  ...   87   \n",
      "\n",
      "        LDL  hemoglobin  Urine protein  serum creatinine  AST  ALT  Gtp  \\\n",
      "0        75        16.5              1               1.0   22   25   27   \n",
      "1       126        16.2              1               1.1   27   23   37   \n",
      "2        93        17.4              1               0.8   27   31   53   \n",
      "3       102        15.9              1               1.0   20   27   30   \n",
      "4        93        15.4              1               0.8   19   13   17   \n",
      "...     ...         ...            ...               ...  ...  ...  ...   \n",
      "159251  159        14.5              1               0.8   25   26   13   \n",
      "159252  108        14.5              1               0.6   21   20   18   \n",
      "159253   93        10.9              1               0.6   15    9   12   \n",
      "159254   80        14.4              1               1.1   22   17   37   \n",
      "159255   81        14.0              1               0.8   21   16   17   \n",
      "\n",
      "        dental caries  smoking  \n",
      "0                   0        1  \n",
      "1                   1        0  \n",
      "2                   0        1  \n",
      "3                   1        0  \n",
      "4                   0        1  \n",
      "...               ...      ...  \n",
      "159251              0        0  \n",
      "159252              0        0  \n",
      "159253              0        0  \n",
      "159254              0        1  \n",
      "159255              0        0  \n",
      "\n",
      "[159256 rows x 24 columns]\n"
     ]
    }
   ],
   "source": [
    "\n",
    "df = pd.read_csv(\"train.csv\")\n",
    "# df = pd.read_csv(\"test.csv\")\n",
    "print('Column count:', len(df.columns))\n",
    "print(df.columns)\n",
    "print(df)"
   ]
  },
  {
   "cell_type": "code",
   "execution_count": null,
   "id": "3426a2c8-e413-4415-b963-632534bf6e5f",
   "metadata": {},
   "outputs": [],
   "source": []
  }
 ],
 "metadata": {
  "kernelspec": {
   "display_name": "Python 3 (ipykernel)",
   "language": "python",
   "name": "python3"
  },
  "language_info": {
   "codemirror_mode": {
    "name": "ipython",
    "version": 3
   },
   "file_extension": ".py",
   "mimetype": "text/x-python",
   "name": "python",
   "nbconvert_exporter": "python",
   "pygments_lexer": "ipython3",
   "version": "3.12.4"
  }
 },
 "nbformat": 4,
 "nbformat_minor": 5
}
